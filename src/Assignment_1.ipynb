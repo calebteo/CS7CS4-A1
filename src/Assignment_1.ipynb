{
 "cells": [
  {
   "cell_type": "code",
   "execution_count": null,
   "metadata": {},
   "outputs": [],
   "source": [
    "import pandas as pd\n",
    "import numpy as np\n",
    "import matplotlib.pyplot as plt\n",
    "from sklearn.model_selection import train_test_split\n",
    "from sklearn.linear_model import LinearRegression\n",
    "from sklearn.linear_model import Ridge\n",
    "from sklearn.linear_model import RidgeCV\n",
    "from sklearn.ensemble import RandomForestRegressor\n",
    "from sklearn.ensemble import RandomForestClassifier\n",
    "from sklearn import metrics\n",
    "from sklearn.preprocessing import MinMaxScaler\n",
    "from sklearn.preprocessing import Normalizer\n",
    "from catboost import CatBoostRegressor\n",
    "\n",
    "import main"
   ]
  },
  {
   "cell_type": "markdown",
   "metadata": {},
   "source": [
    "## Preprocessing of Data"
   ]
  },
  {
   "cell_type": "code",
   "execution_count": null,
   "metadata": {},
   "outputs": [],
   "source": [
    "## Start of Notebook\n",
    "\n",
    "print('Starting Assignment 1')\n",
    "RawData = main.ReadInData(\"../data/tcd ml 2019-20 income prediction training (with labels).csv\")\n",
    "print(RawData.shape)\n",
    "print(RawData.describe())\n"
   ]
  },
  {
   "cell_type": "code",
   "execution_count": null,
   "metadata": {},
   "outputs": [],
   "source": [
    "## Dropping Features that are missing a large amount of data\n",
    "## Dropping instances with missing data\n",
    "\n",
    "RawData = main.HandleMissingData(RawData)\n",
    "\n",
    "null_counts = RawData.isnull().sum()\n",
    "print(\"Number of null values in each column:\\n{}\".format(null_counts))"
   ]
  },
  {
   "cell_type": "code",
   "execution_count": null,
   "metadata": {},
   "outputs": [],
   "source": [
    "## Scale data\n",
    "columns = RawData.columns.values\n",
    "tmp= RawData.drop(columns=['Country','Profession','Gender','University Degree'], axis=1)\n",
    "scaler = MinMaxScaler(feature_range=(0,1))\n",
    "scaler.fit(tmp)\n",
    "rescaledData = scaler.transform(tmp)\n",
    "\n",
    "## Holded scaled for later.\n",
    "df = pd.DataFrame(rescaledData)\n",
    "print(df)\n",
    "\n",
    "RawData['Year of Record'] = df[0]\n",
    "RawData['Age'] = df[1]\n",
    "RawData['Size of City'] = df[2]\n",
    "RawData['Body Height [cm]'] = df[4]\n",
    "\n",
    "RawData.describe()"
   ]
  },
  {
   "cell_type": "code",
   "execution_count": null,
   "metadata": {},
   "outputs": [],
   "source": [
    "## Removing Outliers. Outliers being top and bottoms 2.5%\n",
    "## Did not use in the final solution*\n",
    "\n",
    "from scipy import stats\n",
    "import numpy as np\n",
    "\n",
    "z = np.abs(stats.zscore(RawData['Income in EUR']))\n",
    "print(z)\n",
    "print(z.shape)\n",
    "count = []\n",
    "index = []\n",
    "for i in range(len(z)):\n",
    "    if z[i] > 3:\n",
    "        count.append(z[i])\n",
    "        index.append(i)\n",
    "        \n",
    "RawData = RawData.drop(index)\n",
    "print(\"Removing \" + str(len(index)))\n",
    "print(\"New Number of Instances: \" + str(RawData.shape))"
   ]
  },
  {
   "cell_type": "code",
   "execution_count": null,
   "metadata": {},
   "outputs": [],
   "source": [
    "## Seeing the data and the unique values\n",
    "\n",
    "for s in RawData.columns.values:\n",
    "    print(\"Features in \" + s)\n",
    "    print(RawData[s].unique())\n",
    "    print(len(RawData[s].unique()))\n"
   ]
  },
  {
   "cell_type": "code",
   "execution_count": null,
   "metadata": {},
   "outputs": [],
   "source": [
    "## Section to conver to binary matrix\n",
    "## Changing Country, Profession\n",
    "\n",
    "RawData_Country = pd.get_dummies(RawData.Country)\n",
    "print(type(RawData_Country))\n",
    "RawData_Profession = pd.get_dummies(RawData.Profession)\n",
    "print(type(RawData_Profession))\n",
    "RawData_Gender = pd.get_dummies(RawData['Gender'])\n",
    "print(RawData_Gender.describe())\n",
    "RawData_Uni = pd.get_dummies(RawData['University Degree'])\n",
    "print(RawData_Uni.describe())"
   ]
  },
  {
   "cell_type": "code",
   "execution_count": null,
   "metadata": {},
   "outputs": [],
   "source": [
    "RawData.describe()"
   ]
  },
  {
   "cell_type": "code",
   "execution_count": null,
   "metadata": {},
   "outputs": [],
   "source": [
    "## Creating clean training data\n",
    "print(RawData.columns)\n",
    "\n",
    "RawData = pd.concat([RawData, RawData_Country], axis=1)\n",
    "RawData= RawData.drop('Country', axis=1)\n",
    "RawData = pd.concat([RawData, RawData_Profession], axis=1)\n",
    "RawData= RawData.drop('Profession', axis=1)\n",
    "RawData = pd.concat([RawData, RawData_Gender], axis=1)\n",
    "RawData= RawData.drop('Gender', axis=1)\n",
    "RawData = pd.concat([RawData, RawData_Uni], axis=1)\n",
    "RawData= RawData.drop('University Degree', axis=1)"
   ]
  },
  {
   "cell_type": "code",
   "execution_count": null,
   "metadata": {
    "scrolled": true
   },
   "outputs": [],
   "source": [
    "RawData.describe()"
   ]
  },
  {
   "cell_type": "code",
   "execution_count": null,
   "metadata": {},
   "outputs": [],
   "source": [
    "RawData.head(10)"
   ]
  },
  {
   "cell_type": "code",
   "execution_count": null,
   "metadata": {},
   "outputs": [],
   "source": [
    "## Output Training Data to new file\n",
    "RawData.to_csv(\"../data/processedData_catboost.csv\", index=False)"
   ]
  },
  {
   "cell_type": "markdown",
   "metadata": {},
   "source": [
    "## Training"
   ]
  },
  {
   "cell_type": "code",
   "execution_count": null,
   "metadata": {},
   "outputs": [],
   "source": [
    "## Read in new data and model\n",
    "\n",
    "CleanData = main.ReadInData(\"../data/processedData_catboost.csv\")"
   ]
  },
  {
   "cell_type": "code",
   "execution_count": null,
   "metadata": {},
   "outputs": [],
   "source": [
    "CleanData.columns.unique"
   ]
  },
  {
   "cell_type": "code",
   "execution_count": null,
   "metadata": {},
   "outputs": [],
   "source": [
    "income = CleanData['Income in EUR']\n",
    "# features = CleanData.drop(labels=['Income in EUR', 'Wears Glasses', 'Body Height [cm]'], axis=1)\n",
    "features = CleanData.drop(labels=['Income in EUR'], axis=1)\n",
    "\n",
    "features.head(5)"
   ]
  },
  {
   "cell_type": "code",
   "execution_count": null,
   "metadata": {},
   "outputs": [],
   "source": [
    "## Dropped columns that had less than 5 occurances. \n",
    "## Did not use in the final solution**\n",
    "count = 0\n",
    "columnsToDrop = []\n",
    "for i in range(5,features.shape[1] - 1):\n",
    "    seriesAt = features.iloc[:,i].value_counts()\n",
    "    posForSeries = seriesAt[1]\n",
    "    if posForSeries < 5:\n",
    "#         print(seriesAt.name)\n",
    "        columnsToDrop.append(seriesAt.name)\n",
    "        count = count + 1\n",
    "        \n",
    "print(len(columnsToDrop))"
   ]
  },
  {
   "cell_type": "code",
   "execution_count": null,
   "metadata": {},
   "outputs": [],
   "source": [
    "features = features.drop(columns=columnsToDrop)\n",
    "print(features.head(5))"
   ]
  },
  {
   "cell_type": "code",
   "execution_count": null,
   "metadata": {},
   "outputs": [],
   "source": [
    "## Splitting Data\n",
    "\n",
    "features_train, features_val, income_train, income_val = train_test_split(features, income, test_size=0.2, random_state=0)\n"
   ]
  },
  {
   "cell_type": "code",
   "execution_count": null,
   "metadata": {},
   "outputs": [],
   "source": [
    "## Using Linear Regression\n",
    "\n",
    "model = LinearRegression()\n",
    "model.fit(features_train, income_train)\n",
    "\n",
    "print(model.coef_)\n",
    "print(model.intercept_)\n",
    "\n",
    "## Using Ridge Regression \n",
    "rig_model = RidgeCV()\n",
    "rig_model.fit(features_train, income_train)\n",
    "\n",
    "print(rig_model.coef_)\n",
    "print(rig_model.intercept_)\n",
    "\n",
    "# Using Random Forest Regression\n",
    "# RFR = RandomForestRegressor(max_depth=200)\n",
    "# RFR.fit(features_train, income_train)\n",
    "\n",
    "# Using CatBoost\n",
    "cat_model = CatBoostRegressor(iterations=20000)\n",
    "cat_model.fit(features_train, income_train)\n"
   ]
  },
  {
   "cell_type": "markdown",
   "metadata": {},
   "source": [
    "## Validating Results"
   ]
  },
  {
   "cell_type": "code",
   "execution_count": null,
   "metadata": {},
   "outputs": [],
   "source": [
    "## Predict with the validation data\n",
    "\n",
    "income_predict = model.predict(features_val)\n",
    "comparison = pd.DataFrame({'Actual': income_val, 'Predicted': income_predict})\n",
    "\n",
    "comparison\n",
    "\n",
    "income_predict_rig = rig_model.predict(features_val)\n",
    "\n",
    "# income_predict_RFR = RFR.predict(features_val)\n",
    "\n",
    "income_predict_cat = cat_model.predict(features_val)"
   ]
  },
  {
   "cell_type": "code",
   "execution_count": null,
   "metadata": {},
   "outputs": [],
   "source": [
    "## RMSE - LINEAR MODEL\n",
    "print('Mean Absolute Error:', metrics.mean_absolute_error(income_val, income_predict))  \n",
    "print('Mean Squared Error:', metrics.mean_squared_error(income_val, income_predict))  \n",
    "print('Root Mean Squared Error:', np.sqrt(metrics.mean_squared_error(income_val, income_predict)))\n",
    "\n",
    "## Mean Absolute Error: 43557.00458896904\n",
    "# Mean Squared Error: 7422065078.367375\n",
    "# Root Mean Squared Error: 86151.40787223025\n",
    "\n",
    "## RMSE - RIDGE MODEL\n",
    "print('Mean Absolute Error:', metrics.mean_absolute_error(income_val, income_predict_rig))  \n",
    "print('Mean Squared Error:', metrics.mean_squared_error(income_val, income_predict_rig))  \n",
    "print('Root Mean Squared Error:', np.sqrt(metrics.mean_squared_error(income_val, income_predict_rig)))\n",
    "\n",
    "# Mean Absolute Error: 42800.374852794565\n",
    "# Mean Squared Error: 6624261842.145419\n",
    "# Root Mean Squared Error: 81389.56838652863\n",
    "\n",
    "## With Gender and University Degree\n",
    "## STANDARD\n",
    "# Mean Absolute Error: 42683.66765298456\n",
    "# Mean Squared Error: 6611260404.6631155\n",
    "# Root Mean Squared Error: 81309.65751165796\n",
    "\n",
    "## RIDGE\n",
    "# Mean Absolute Error: 42466.72095408424\n",
    "# Mean Squared Error: 6546309166.8984585\n",
    "# Root Mean Squared Error: 80909.26502507892\n",
    "\n",
    "## RMSE - RANDOM FOREST MODEL\n",
    "# print('Mean Absolute Error:', metrics.mean_absolute_error(income_val, income_predict_RFR))  \n",
    "# print('Mean Squared Error:', metrics.mean_squared_error(income_val, income_predict_RFR))  \n",
    "# print('Root Mean Squared Error:', np.sqrt(metrics.mean_squared_error(income_val, income_predict_RFR)))\n",
    "\n",
    "\n",
    "## RMSE - CATBOOST MODEL\n",
    "print('Mean Absolute Error:', metrics.mean_absolute_error(income_val, income_predict_cat))  \n",
    "print('Mean Squared Error:', metrics.mean_squared_error(income_val, income_predict_cat))  \n",
    "print('Root Mean Squared Error:', np.sqrt(metrics.mean_squared_error(income_val, income_predict_cat)))\n",
    "\n",
    "## Random Forest Regressor\n",
    "# Mean Absolute Error: 34068.166948849575\n",
    "# Mean Squared Error: 6755748786.367559\n",
    "# Root Mean Squared Error: 82193.36217948236\n",
    "\n",
    "## On attempt in remove outlier of Country and Professions\n",
    "# Mean Absolute Error: 42537.31959067379\n",
    "# Mean Squared Error: 6388705859.717933\n",
    "# Root Mean Squared Error: 79929.38045373511\n",
    "# Mean Absolute Error: 42541.744230243545\n",
    "# Mean Squared Error: 6399195869.625069\n",
    "# Root Mean Squared Error: 79994.97402727917\n",
    "\n",
    "# Catboost\n",
    "# Mean Absolute Error: 31269.4598656221\n",
    "# Mean Squared Error: 5062659956.418068\n",
    "# Root Mean Squared Error: 71152.37140403732"
   ]
  },
  {
   "cell_type": "code",
   "execution_count": null,
   "metadata": {},
   "outputs": [],
   "source": [
    "## Graphing Difference \n",
    "\n",
    "df1 = comparison.head(25)\n",
    "df1.plot(kind='bar',figsize=(16,10))\n",
    "plt.grid(which='major', linestyle='-', linewidth='0.5', color='green')\n",
    "plt.grid(which='minor', linestyle=':', linewidth='0.5', color='black')\n",
    "plt.show()"
   ]
  },
  {
   "cell_type": "markdown",
   "metadata": {},
   "source": [
    "## Data Exploring "
   ]
  },
  {
   "cell_type": "code",
   "execution_count": null,
   "metadata": {},
   "outputs": [],
   "source": [
    "## Read in Test and try to map\n",
    "## Cell used to explore difference in Train data and Test data\n",
    "\n",
    "TestData = main.ReadInData(\"../data/tcd ml 2019-20 income prediction test (without labels).csv\")\n",
    "TestData.head(5)\n"
   ]
  },
  {
   "cell_type": "code",
   "execution_count": null,
   "metadata": {},
   "outputs": [],
   "source": [
    "## Comparing Training and Test (Country)\n",
    "print(TestData['Country'].unique())\n",
    "print(\"Test Shape \" + str(len(TestData['Country'].unique())))\n",
    "Raw = main.ReadInData(\"../data/tcd ml 2019-20 income prediction training (with labels).csv\")\n",
    "print(Raw['Country'].unique())\n",
    "print(\"Raw Shape \" + str(len(Raw['Country'].unique())))\n",
    "\n",
    "print(TestData['Country'].equals(Raw['Country']))\n",
    "\n",
    "## Test has less than 3 to Training"
   ]
  },
  {
   "cell_type": "code",
   "execution_count": null,
   "metadata": {},
   "outputs": [],
   "source": [
    "## Comparing Training and Test (Profession)\n",
    "print(TestData['Profession'].unique())\n",
    "print(\"Test Shape \" + str(len(TestData['Profession'].unique())))\n",
    "print(Raw['Profession'].unique())\n",
    "print(\"Raw Shape \" + str(len(Raw['Profession'].unique())))\n",
    "\n",
    "print(TestData['Profession'].equals(Raw['Profession']))\n",
    "\n",
    "## Test Data has less 15 to Training"
   ]
  },
  {
   "cell_type": "code",
   "execution_count": null,
   "metadata": {},
   "outputs": [],
   "source": [
    "## Comparing Training and Test (University Degree)\n",
    "print(TestData['University Degree'].unique())\n",
    "print(\"Test Shape \" + str(len(TestData['University Degree'].unique())))\n",
    "print(Raw['University Degree'].unique())\n",
    "print(\"Raw Shape \" + str(len(Raw['University Degree'].unique())))\n",
    "\n",
    "print(TestData['University Degree'].equals(Raw['University Degree']))\n"
   ]
  },
  {
   "cell_type": "code",
   "execution_count": null,
   "metadata": {},
   "outputs": [],
   "source": [
    "## Cell to Compare what is in Test and Trainning Data\n",
    "\n",
    "Diff = pd.DataFrame(columns=['Unique_C_InTest', 'Unique_C_InTrain','Unique_P_InTest', 'Unique_P_InTrain'])\n",
    "\n",
    "Diff = pd.DataFrame()\n",
    "Diff['Unique_C_InTest'] = TestData[\"Country\"][~TestData[\"Country\"].isin(Raw[\"Country\"])].drop_duplicates()\n",
    "print(Diff['Unique_C_InTest'])\n",
    "print(str(len(Diff['Unique_C_InTest'])))\n",
    "\n",
    "Diff = pd.DataFrame()\n",
    "Diff['Unique_P_InTest',] = TestData[\"Profession\"][~TestData[\"Profession\"].isin(Raw[\"Profession\"])].drop_duplicates()\n",
    "print(Diff['Unique_P_InTest',])\n",
    "print(str(len(Diff['Unique_P_InTest',])))\n",
    "\n",
    "Diff = pd.DataFrame()\n",
    "Diff['Unique_C_InTrain'] = Raw[\"Country\"][~Raw[\"Country\"].isin(TestData[\"Country\"])].drop_duplicates()\n",
    "print(Diff['Unique_C_InTrain'])\n",
    "print(str(len(Diff['Unique_C_InTrain'])))\n",
    "\n",
    "Diff = pd.DataFrame()\n",
    "Diff['Unique_P_InTrain'] = Raw[\"Profession\"][~Raw[\"Profession\"].isin(TestData[\"Profession\"])].drop_duplicates()\n",
    "print(Diff['Unique_P_InTrain'])\n",
    "print(str(len(Diff['Unique_P_InTrain'])))\n"
   ]
  },
  {
   "cell_type": "markdown",
   "metadata": {},
   "source": [
    "## Prediction of Test Data"
   ]
  },
  {
   "cell_type": "code",
   "execution_count": null,
   "metadata": {},
   "outputs": [],
   "source": [
    "## Cell used to test MapColVarToMap\n",
    "## Main Cell to Clean Test Data\n",
    "\n",
    "Raw = main.ReadInData(\"../data/tcd ml 2019-20 income prediction training (with labels).csv\")\n",
    "test = main.ReadInData(\"../data/tcd ml 2019-20 income prediction test (without labels).csv\")\n",
    "test = main.HandleMissingData(test)\n",
    "CleanTest = test.drop('Country', axis=1)\n",
    "CleanTest = CleanTest.drop('Profession', axis=1)\n",
    "CleanTest = CleanTest.drop('Gender', axis=1)\n",
    "CleanTest = CleanTest.drop('University Degree', axis=1)\n",
    "CleanTest = CleanTest.drop('Income', axis=1)\n",
    "\n",
    "# Profession's NaN must be will with No, to allow function MapColVarToModelInput to sort columns\n",
    "Raw = main.HandleMissingData(Raw)\n",
    "\n",
    "## Scale data\n",
    "scaler = MinMaxScaler(feature_range=(0,1))\n",
    "scaler.fit(CleanTest)\n",
    "rescaledData = scaler.transform(CleanTest)\n",
    "df = pd.DataFrame(rescaledData)\n",
    "print(df)\n",
    "CleanTest['Year of Record'] = df[0]\n",
    "CleanTest['Age'] = df[1]\n",
    "CleanTest['Size of City'] = df[2]\n",
    "CleanTest['Body Height [cm]'] = df[4]\n",
    "\n",
    "\n",
    "# Create 1st DF as copy. Create 2nd DF with encoding. Cat together\n",
    "\n",
    "countryDf = main.MapColVarToModelInputs(Raw, test, 'Country')\n",
    "professionDf = main.MapColVarToModelInputs(Raw, test, 'Profession')\n",
    "genderDf = main.MapColVarToModelInputs(Raw, test, 'Gender')\n",
    "uniDf = main.MapColVarToModelInputs(Raw, test, 'University Degree')\n",
    "\n",
    "print(CleanTest.columns)\n",
    "TestInputs = pd.concat([CleanTest, countryDf], axis=1)\n",
    "TestInputs = pd.concat([TestInputs, professionDf], axis=1)\n",
    "TestInputs = pd.concat([TestInputs, genderDf], axis=1)\n",
    "TestInputs = pd.concat([TestInputs, uniDf], axis=1)\n",
    "print(TestInputs.columns)\n",
    "# TestInputs = TestInputs.drop(columns=columnsToDrop)"
   ]
  },
  {
   "cell_type": "code",
   "execution_count": null,
   "metadata": {},
   "outputs": [],
   "source": [
    "print(professionDf.head(5))\n",
    "print(countryDf.head(5))\n",
    "print(count)\n",
    "print(TestInputs.head(5))"
   ]
  },
  {
   "cell_type": "code",
   "execution_count": null,
   "metadata": {},
   "outputs": [],
   "source": [
    "TestInputs.to_csv(\"../data/processedTest_catboost.csv\", index=False)"
   ]
  },
  {
   "cell_type": "code",
   "execution_count": null,
   "metadata": {},
   "outputs": [],
   "source": [
    "TestInputs = main.ReadInData('../data/processedTest_4.csv')"
   ]
  },
  {
   "cell_type": "code",
   "execution_count": null,
   "metadata": {},
   "outputs": [],
   "source": [
    "## Linear Regression\n",
    "\n",
    "test_prediction = model.predict(TestInputs)\n",
    "print(test_prediction)\n",
    "\n",
    "submit = main.ReadInData('../data/tcd ml 2019-20 income prediction submission file.csv')\n",
    "submit['Income'] = np.round(test_prediction, 3)\n",
    "submit.head(5)\n",
    "submit.to_csv('../data/my_predictions_8.csv', index=False)"
   ]
  },
  {
   "cell_type": "code",
   "execution_count": null,
   "metadata": {},
   "outputs": [],
   "source": [
    "## Ridge Regression\n",
    "test_prediction_rig = rig_model.predict(TestInputs)\n",
    "print(test_prediction_rig)\n",
    "\n",
    "submit = main.ReadInData('../data/tcd ml 2019-20 income prediction submission file.csv')\n",
    "submit['Income'] = np.round(test_prediction_rig, 2)\n",
    "submit.to_csv('../data/my_predictions_7.csv', index=False)"
   ]
  },
  {
   "cell_type": "code",
   "execution_count": null,
   "metadata": {},
   "outputs": [],
   "source": [
    "## CatBoost Regression\n",
    "test_prediction_cat = cat_model.predict(TestInputs)\n",
    "print(test_prediction_cat)\n",
    "\n",
    "submit = main.ReadInData('../data/tcd ml 2019-20 income prediction submission file.csv')\n",
    "submit['Income'] = np.round(test_prediction_cat, 4)\n",
    "submit.to_csv('../data/my_predictions_10.csv', index=False)"
   ]
  },
  {
   "cell_type": "markdown",
   "metadata": {},
   "source": [
    "## Exploring Data PT.2"
   ]
  },
  {
   "cell_type": "code",
   "execution_count": null,
   "metadata": {},
   "outputs": [],
   "source": [
    "## Visualising\n",
    "\n",
    "plt.figure(figsize=(16,3))\n",
    "\n",
    "plt.subplot(131)\n",
    "plt.scatter(x = Raw['Year of Record'], y = Raw['Income in EUR'])\n",
    "plt.subplot(132)\n",
    "plt.scatter(x = Raw['Gender'], y = Raw['Income in EUR'])\n",
    "plt.subplot(133)\n",
    "plt.scatter(x = Raw['Age'], y = Raw['Income in EUR'])\n",
    "# plt.subplot(111)\n",
    "# plt.scatter(x = Raw['Country'], y = Raw['Income in EUR'])\n",
    "plt.show()"
   ]
  },
  {
   "cell_type": "code",
   "execution_count": null,
   "metadata": {},
   "outputs": [],
   "source": [
    "## More Visualising Cells\n",
    "\n",
    "print(dropped.shape)\n",
    "    \n",
    "plt.figure(figsize=(16,3))\n",
    "\n",
    "plt.subplot(131)\n",
    "plt.scatter(x = dropped['Year of Record'], y = dropped['Income in EUR'])\n",
    "plt.subplot(132)\n",
    "plt.scatter(x = dropped['Gender'], y = dropped['Income in EUR'])\n",
    "plt.subplot(133)\n",
    "plt.scatter(x = dropped['Age'], y = dropped['Income in EUR'])\n",
    "# plt.subplot(111)\n",
    "# plt.scatter(x = Raw['Country'], y = Raw['Income in EUR'])\n",
    "plt.show()"
   ]
  },
  {
   "cell_type": "code",
   "execution_count": null,
   "metadata": {},
   "outputs": [],
   "source": [
    "## Playing around with Data Cell.\n",
    "\n",
    "Raw = main.ReadInData(\"../data/tcd ml 2019-20 income prediction training (with labels).csv\")\n",
    "Raw = main.HandleMissingData(Raw)\n",
    "Raw['University Degree'] = Raw['University Degree'].replace(['0'], 'No')\n",
    "\n",
    "sub_df = Raw[Raw['Profession'].str.contains(\"senior\")]\n",
    "sub_df.head(5)"
   ]
  },
  {
   "cell_type": "code",
   "execution_count": null,
   "metadata": {},
   "outputs": [],
   "source": [
    "print(sub_df.describe())\n",
    "\n",
    "\n",
    "plt.scatter(x = sub_df['Year of Record'], y = sub_df['Income in EUR'])\n",
    "plt.show()"
   ]
  }
 ],
 "metadata": {
  "kernelspec": {
   "display_name": "Python 3",
   "language": "python",
   "name": "python3"
  },
  "language_info": {
   "codemirror_mode": {
    "name": "ipython",
    "version": 3
   },
   "file_extension": ".py",
   "mimetype": "text/x-python",
   "name": "python",
   "nbconvert_exporter": "python",
   "pygments_lexer": "ipython3",
   "version": "3.7.4"
  }
 },
 "nbformat": 4,
 "nbformat_minor": 2
}
