{
 "cells": [
  {
   "cell_type": "code",
   "execution_count": 17,
   "metadata": {},
   "outputs": [],
   "source": [
    "import pandas as pd\n",
    "import numpy as np\n",
    "import matplotlib.pyplot as plt\n",
    "from sklearn.model_selection import train_test_split\n",
    "from sklearn.linear_model import LinearRegression\n",
    "from sklearn import metrics\n",
    "\n",
    "import main"
   ]
  },
  {
   "cell_type": "code",
   "execution_count": 18,
   "metadata": {},
   "outputs": [
    {
     "name": "stdout",
     "output_type": "stream",
     "text": [
      "Starting Assignment 1\n",
      "(111993, 12)\n",
      "            Instance  Year of Record            Age  Size of City  \\\n",
      "count  111993.000000   111552.000000  111499.000000  1.119930e+05   \n",
      "mean    55997.000000     1999.421274      37.345304  8.388538e+05   \n",
      "std     32329.738686       11.576382      16.036694  2.196879e+06   \n",
      "min         1.000000     1980.000000      14.000000  7.700000e+01   \n",
      "25%     27999.000000     1989.000000      24.000000  7.273400e+04   \n",
      "50%     55997.000000     1999.000000      35.000000  5.060920e+05   \n",
      "75%     83995.000000     2009.000000      48.000000  1.184501e+06   \n",
      "max    111993.000000     2019.000000     115.000000  4.999251e+07   \n",
      "\n",
      "       Wears Glasses  Body Height [cm]  Income in EUR  \n",
      "count  111993.000000     111993.000000   1.119930e+05  \n",
      "mean        0.500531        175.220192   1.092138e+05  \n",
      "std         0.500002         19.913889   1.498024e+05  \n",
      "min         0.000000         94.000000  -5.696906e+03  \n",
      "25%         0.000000        160.000000   3.077169e+04  \n",
      "50%         1.000000        174.000000   5.733917e+04  \n",
      "75%         1.000000        190.000000   1.260936e+05  \n",
      "max         1.000000        265.000000   5.285252e+06  \n"
     ]
    }
   ],
   "source": [
    "## Start of Notebook\n",
    "\n",
    "print('Starting Assignment 1')\n",
    "RawData = main.ReadInData(\"../data/tcd ml 2019-20 income prediction training (with labels).csv\")\n",
    "print(RawData.shape)\n",
    "print(RawData.describe())\n",
    "\n",
    "## Might not need this line here. Just a precaution for NaN.\n",
    "# if trainingData.isnull().any:\n",
    "#     trainingData = trainingData.fillna(method='ffill')\n"
   ]
  },
  {
   "cell_type": "code",
   "execution_count": null,
   "metadata": {},
   "outputs": [],
   "source": [
    "## Dropping Features that are missing a large amount of data\n",
    "## Dropping instances with missing data\n",
    "\n",
    "RawData = RawData.drop(\"Gender\",axis=1)\n",
    "RawData = RawData.drop(\"University Degree\",axis=1)\n",
    "RawData = RawData.drop(\"Hair Color\",axis=1)\n",
    "RawData = RawData.dropna()\n",
    "\n",
    "null_counts = RawData.isnull().sum()\n",
    "print(\"Number of null values in each column:\\n{}\".format(null_counts))"
   ]
  },
  {
   "cell_type": "code",
   "execution_count": null,
   "metadata": {},
   "outputs": [],
   "source": [
    "## Checking data for missing values\n",
    "\n",
    "null_counts = RawData.isnull().sum()\n",
    "print(\"Number of null values in each column:\\n{}\".format(null_counts))\n"
   ]
  },
  {
   "cell_type": "code",
   "execution_count": null,
   "metadata": {},
   "outputs": [],
   "source": [
    "## Seeing the data and the unique values\n",
    "\n",
    "for s in RawData.columns.values:\n",
    "    print(\"Features in \" + s)\n",
    "    print(RawData[s].unique())\n",
    "    print(len(RawData[s].unique()))\n"
   ]
  },
  {
   "cell_type": "code",
   "execution_count": null,
   "metadata": {},
   "outputs": [],
   "source": [
    "## Section to conver to binary matrix\n",
    "## Changing Country, Profession\n",
    "\n",
    "RawData_Country = pd.get_dummies(RawData.Country)\n",
    "print(type(RawData_Country))\n",
    "RawData_Profession = pd.get_dummies(RawData.Profession)\n",
    "print(type(RawData_Profession))"
   ]
  },
  {
   "cell_type": "code",
   "execution_count": null,
   "metadata": {},
   "outputs": [],
   "source": [
    "RawData.describe()"
   ]
  },
  {
   "cell_type": "code",
   "execution_count": null,
   "metadata": {},
   "outputs": [],
   "source": [
    "## Creating clean training data\n",
    "print(RawData.columns)\n",
    "\n",
    "RawData = pd.concat([RawData, RawData_Country], axis=1)\n",
    "RawData= RawData.drop('Country', axis=1)\n",
    "RawData = pd.concat([RawData, RawData_Profession], axis=1)\n",
    "RawData= RawData.drop('Profession', axis=1)"
   ]
  },
  {
   "cell_type": "code",
   "execution_count": null,
   "metadata": {},
   "outputs": [],
   "source": [
    "RawData.describe()"
   ]
  },
  {
   "cell_type": "code",
   "execution_count": null,
   "metadata": {},
   "outputs": [],
   "source": [
    "## Output Training Data to new file\n",
    "RawData.to_csv(\"../data/processedData.csv\", index=False)"
   ]
  },
  {
   "cell_type": "code",
   "execution_count": null,
   "metadata": {},
   "outputs": [],
   "source": [
    "## Read in new data and model\n",
    "\n",
    "CleanData = main.ReadInData(\"../data/processedData.csv\")"
   ]
  },
  {
   "cell_type": "code",
   "execution_count": null,
   "metadata": {},
   "outputs": [],
   "source": [
    "CleanData.head(5)"
   ]
  },
  {
   "cell_type": "code",
   "execution_count": null,
   "metadata": {},
   "outputs": [],
   "source": [
    "income = CleanData['Income in EUR']\n",
    "features = CleanData.drop(labels=['Income in EUR', 'Instance'], axis=1)\n",
    "\n",
    "features.head(5)"
   ]
  },
  {
   "cell_type": "code",
   "execution_count": null,
   "metadata": {},
   "outputs": [],
   "source": [
    "## Splitting Data\n",
    "\n",
    "features_train, features_val, income_train, income_val = train_test_split(features, income, test_size=0.2, random_state=0)\n"
   ]
  },
  {
   "cell_type": "code",
   "execution_count": null,
   "metadata": {},
   "outputs": [],
   "source": [
    "## Using Linear Regression\n",
    "\n",
    "model = LinearRegression()\n",
    "model.fit(features_train, income_train)\n",
    "\n",
    "print(model.coef_)\n",
    "print(model.intercept_)\n"
   ]
  },
  {
   "cell_type": "code",
   "execution_count": null,
   "metadata": {},
   "outputs": [],
   "source": [
    "## Predict with the validation data\n",
    "\n",
    "income_predict = model.predict(features_val)\n",
    "comparison = pd.DataFrame({'Actual': income_val, 'Predicted': income_predict})\n",
    "\n",
    "comparison"
   ]
  },
  {
   "cell_type": "code",
   "execution_count": null,
   "metadata": {},
   "outputs": [],
   "source": [
    "## Graphing Difference \n",
    "\n",
    "df1 = comparison.head(25)\n",
    "df1.plot(kind='bar',figsize=(16,10))\n",
    "plt.grid(which='major', linestyle='-', linewidth='0.5', color='green')\n",
    "plt.grid(which='minor', linestyle=':', linewidth='0.5', color='black')\n",
    "plt.show()"
   ]
  },
  {
   "cell_type": "code",
   "execution_count": null,
   "metadata": {},
   "outputs": [],
   "source": [
    "print('Mean Absolute Error:', metrics.mean_absolute_error(income_val, income_predict))  \n",
    "print('Mean Squared Error:', metrics.mean_squared_error(income_val, income_predict))  \n",
    "print('Root Mean Squared Error:', np.sqrt(metrics.mean_squared_error(income_val, income_predict)))\n",
    "\n",
    "## Mean Absolute Error: 43557.00458896904\n",
    "# Mean Squared Error: 7422065078.367375\n",
    "# Root Mean Squared Error: 86151.40787223025"
   ]
  },
  {
   "cell_type": "code",
   "execution_count": null,
   "metadata": {},
   "outputs": [],
   "source": [
    "## Read in Test and try to map\n",
    "\n",
    "TestData = main.ReadInData(\"../data/tcd ml 2019-20 income prediction test (without labels).csv\")\n",
    "TestData.head(5)\n"
   ]
  },
  {
   "cell_type": "code",
   "execution_count": null,
   "metadata": {},
   "outputs": [],
   "source": [
    "## Comparing Training and Test (Country)\n",
    "print(TestData['Country'].unique())\n",
    "print(\"Test Shape \" + str(len(TestData['Country'].unique())))\n",
    "Raw = main.ReadInData(\"../data/tcd ml 2019-20 income prediction training (with labels).csv\")\n",
    "print(Raw['Country'].unique())\n",
    "print(\"Raw Shape \" + str(len(Raw['Country'].unique())))\n",
    "\n",
    "print(TestData['Country'].equals(Raw['Country']))\n",
    "\n",
    "## Test has less than 3 to Training"
   ]
  },
  {
   "cell_type": "code",
   "execution_count": null,
   "metadata": {},
   "outputs": [],
   "source": [
    "## Comparing Training and Test (Profession)\n",
    "print(TestData['Profession'].unique())\n",
    "print(\"Test Shape \" + str(len(TestData['Profession'].unique())))\n",
    "print(Raw['Profession'].unique())\n",
    "print(\"Raw Shape \" + str(len(Raw['Profession'].unique())))\n",
    "\n",
    "print(TestData['Profession'].equals(Raw['Profession']))\n",
    "\n",
    "## Test Data has less 15 to Training"
   ]
  },
  {
   "cell_type": "code",
   "execution_count": null,
   "metadata": {},
   "outputs": [],
   "source": [
    "## Comparing Training and Test (University Degree)\n",
    "print(TestData['University Degree'].unique())\n",
    "print(\"Test Shape \" + str(len(TestData['University Degree'].unique())))\n",
    "print(Raw['University Degree'].unique())\n",
    "print(\"Raw Shape \" + str(len(Raw['University Degree'].unique())))\n",
    "\n",
    "print(TestData['University Degree'].equals(Raw['University Degree']))\n",
    "\n",
    "## Test Data has less 15 to Training"
   ]
  },
  {
   "cell_type": "code",
   "execution_count": null,
   "metadata": {},
   "outputs": [],
   "source": [
    "## Cell to Compare what is in Test and Trainning Data\n",
    "\n",
    "Diff = pd.DataFrame(columns=['Unique_C_InTest', 'Unique_C_InTrain','Unique_P_InTest', 'Unique_P_InTrain'])\n",
    "\n",
    "Diff = pd.DataFrame()\n",
    "Diff['Unique_C_InTest'] = TestData[\"Country\"][~TestData[\"Country\"].isin(Raw[\"Country\"])].drop_duplicates()\n",
    "print(Diff['Unique_C_InTest'])\n",
    "print(str(len(Diff['Unique_C_InTest'])))\n",
    "\n",
    "Diff = pd.DataFrame()\n",
    "Diff['Unique_P_InTest',] = TestData[\"Profession\"][~TestData[\"Profession\"].isin(Raw[\"Profession\"])].drop_duplicates()\n",
    "print(Diff['Unique_P_InTest',])\n",
    "print(str(len(Diff['Unique_P_InTest',])))\n",
    "\n",
    "Diff = pd.DataFrame()\n",
    "Diff['Unique_C_InTrain'] = Raw[\"Country\"][~Raw[\"Country\"].isin(TestData[\"Country\"])].drop_duplicates()\n",
    "print(Diff['Unique_C_InTrain'])\n",
    "print(str(len(Diff['Unique_C_InTrain'])))\n",
    "\n",
    "Diff = pd.DataFrame()\n",
    "Diff['Unique_P_InTrain'] = Raw[\"Profession\"][~Raw[\"Profession\"].isin(TestData[\"Profession\"])].drop_duplicates()\n",
    "print(Diff['Unique_P_InTrain'])\n",
    "print(str(len(Diff['Unique_P_InTrain'])))\n"
   ]
  },
  {
   "cell_type": "code",
   "execution_count": null,
   "metadata": {},
   "outputs": [],
   "source": [
    "Raw.columns.values"
   ]
  },
  {
   "cell_type": "code",
   "execution_count": null,
   "metadata": {},
   "outputs": [],
   "source": [
    "Raw = main.HandleMissingData(Raw)"
   ]
  },
  {
   "cell_type": "code",
   "execution_count": null,
   "metadata": {},
   "outputs": [],
   "source": [
    "null_counts = Raw.isnull().sum()\n",
    "print(\"Number of null values in each column:\\n{}\".format(null_counts))"
   ]
  },
  {
   "cell_type": "code",
   "execution_count": null,
   "metadata": {},
   "outputs": [],
   "source": [
    "TestData = main.HandleMissingData(TestData)\n",
    "null_counts = TestData.isnull().sum()\n",
    "print(\"Number of null values in each column:\\n{}\".format(null_counts))"
   ]
  },
  {
   "cell_type": "code",
   "execution_count": null,
   "metadata": {},
   "outputs": [],
   "source": []
  }
 ],
 "metadata": {
  "kernelspec": {
   "display_name": "Python 3",
   "language": "python",
   "name": "python3"
  },
  "language_info": {
   "codemirror_mode": {
    "name": "ipython",
    "version": 3
   },
   "file_extension": ".py",
   "mimetype": "text/x-python",
   "name": "python",
   "nbconvert_exporter": "python",
   "pygments_lexer": "ipython3",
   "version": "3.7.4"
  }
 },
 "nbformat": 4,
 "nbformat_minor": 2
}
